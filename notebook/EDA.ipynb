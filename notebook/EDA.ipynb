{
 "cells": [
  {
   "cell_type": "markdown",
   "id": "368e1f9f",
   "metadata": {},
   "source": [
    "Title: My Title  \n",
    "Authors :   \n",
    "- Roland DUTAUZIET  \n",
    "- Maeva N'GUESSAN  "
   ]
  },
  {
   "cell_type": "markdown",
   "id": "2f721c50",
   "metadata": {},
   "source": [
    "## <span style=\"color:#EEE8AA\">Configuration du chemin </span>"
   ]
  },
  {
   "cell_type": "code",
   "execution_count": 75,
   "id": "b3acc506",
   "metadata": {},
   "outputs": [],
   "source": [
    "import os, sys\n",
    "os.chdir(os.path.dirname(os.path.abspath(__file__))) if \"__file__\" in locals() else None\n",
    "sys.path.append(os.path.abspath(\"C:/Users/dutau/Desktop/ML Appliqué/TP_1/MaevaNGUESSAN_RolandDUTAUZIET_TP1\"))\n"
   ]
  },
  {
   "cell_type": "code",
   "execution_count": 76,
   "id": "ac78750b",
   "metadata": {},
   "outputs": [],
   "source": [
    "from src.analyse_exploratoire import taux_missing_values_nb, taux_missing_values, is_outlier"
   ]
  },
  {
   "cell_type": "markdown",
   "id": "367770f1",
   "metadata": {},
   "source": [
    "## <span style=\"color:#EEE8AA\"> Librairies </span>"
   ]
  },
  {
   "cell_type": "code",
   "execution_count": null,
   "id": "1a29d60c",
   "metadata": {},
   "outputs": [],
   "source": [
    "import numpy as np\n",
    "import pandas as pd\n",
    "\n",
    "import seaborn as sns\n",
    "import plotly.express as px\n",
    "import matplotlib.pyplot as plt\n",
    "\n",
    "import random \n",
    "from tqdm.auto import tqdm\n",
    "\n",
    "import warnings\n",
    "%matplotlib inline\n",
    "warnings.filterwarnings('ignore')\n"
   ]
  },
  {
   "cell_type": "code",
   "execution_count": 78,
   "id": "b963250e",
   "metadata": {},
   "outputs": [],
   "source": [
    "\n",
    "from sklearn.linear_model import LinearRegression\n",
    "from sklearn.model_selection import train_test_split\n",
    "from sklearn.metrics import mean_squared_error\n",
    "from sklearn.preprocessing import LabelEncoder  \n",
    "\n",
    "import torch\n",
    "import torch.nn as nn\n",
    "\n",
    "from sklearn.decomposition import PCA\n",
    "import matplotlib.pyplot as plt"
   ]
  },
  {
   "cell_type": "markdown",
   "id": "4554db4a",
   "metadata": {},
   "source": [
    "<hr>\n",
    "<h2>Description</h2>\n",
    "<p>Le jeu de données contenu dans train.csv décrit des candidatures au poste de\n",
    "chercheur d’or chez OrFée.<br>\n",
    "\n",
    "<p>Le jeu de données comporte 12 colonnes :<br>\n",
    "• <b>id</b>  : identifiant unique de chaque ligne<br>\n",
    "• <b>date</b>  : date de la candidature<br>\n",
    "•  <b>age</b>: âge du candidat<br>\n",
    "•  <b>diplome</b>: plus haut diplôme obtenu (bac, licence, master, doctorat)<br>\n",
    "• <b>specialite</b> : spécialité du diplôme (géologie, forage, détective, archéologie, . . . )<br>\n",
    "• <b>salaire</b>: salaire demandé<br>\n",
    "• <b>dispo</b>: oui : disponibilité immédiate, non : pas disponible immédiatement<br>\n",
    "• <b>sexe</b>: féminin (F) ou masculin (M)<br>\n",
    "• <b>exp</b> : nombre d’années d’expérience<br>\n",
    "• <b>cheveux</b> : couleur des cheveux (châtain, brun, blond, roux)<br>\n",
    "• <b>note</b> : note (sur 100) obtenue à l’exercice de recherche d’or<br>\n",
    "• <b>embauche</b> : le candidat a-t-il été embauché ? (0 : non, 1 : oui) <br>"
   ]
  },
  {
   "cell_type": "markdown",
   "id": "8837c6e9",
   "metadata": {},
   "source": [
    "## <span style=\"color:#EEE8AA\"> Load Dataset </span>"
   ]
  },
  {
   "cell_type": "code",
   "execution_count": 37,
   "id": "53dcb5ad",
   "metadata": {},
   "outputs": [
    {
     "data": {
      "text/plain": [
       "(20000, 11)"
      ]
     },
     "execution_count": 37,
     "metadata": {},
     "output_type": "execute_result"
    }
   ],
   "source": [
    "df = pd.read_csv(r'../data/data.csv',sep=',') #On change ici le sépérateur pour mieux afficher les données. \n",
    "df.shape"
   ]
  },
  {
   "cell_type": "code",
   "execution_count": 38,
   "id": "40e6d292",
   "metadata": {},
   "outputs": [
    {
     "data": {
      "text/html": [
       "<div>\n",
       "<style scoped>\n",
       "    .dataframe tbody tr th:only-of-type {\n",
       "        vertical-align: middle;\n",
       "    }\n",
       "\n",
       "    .dataframe tbody tr th {\n",
       "        vertical-align: top;\n",
       "    }\n",
       "\n",
       "    .dataframe thead th {\n",
       "        text-align: right;\n",
       "    }\n",
       "</style>\n",
       "<table border=\"1\" class=\"dataframe\">\n",
       "  <thead>\n",
       "    <tr style=\"text-align: right;\">\n",
       "      <th></th>\n",
       "      <th>date</th>\n",
       "      <th>cheveux</th>\n",
       "      <th>age</th>\n",
       "      <th>exp</th>\n",
       "      <th>salaire</th>\n",
       "      <th>sexe</th>\n",
       "      <th>diplome</th>\n",
       "      <th>specialite</th>\n",
       "      <th>note</th>\n",
       "      <th>dispo</th>\n",
       "      <th>embauche</th>\n",
       "    </tr>\n",
       "  </thead>\n",
       "  <tbody>\n",
       "    <tr>\n",
       "      <th>8869</th>\n",
       "      <td>20/11/2011</td>\n",
       "      <td>roux</td>\n",
       "      <td>33.0</td>\n",
       "      <td>1.0</td>\n",
       "      <td>29478.0</td>\n",
       "      <td>F</td>\n",
       "      <td>licence</td>\n",
       "      <td>detective</td>\n",
       "      <td>93.55</td>\n",
       "      <td>non</td>\n",
       "      <td>0</td>\n",
       "    </tr>\n",
       "    <tr>\n",
       "      <th>1855</th>\n",
       "      <td>13/05/2010</td>\n",
       "      <td>chatain</td>\n",
       "      <td>26.0</td>\n",
       "      <td>14.0</td>\n",
       "      <td>21734.0</td>\n",
       "      <td>F</td>\n",
       "      <td>doctorat</td>\n",
       "      <td>forage</td>\n",
       "      <td>125.80</td>\n",
       "      <td>oui</td>\n",
       "      <td>0</td>\n",
       "    </tr>\n",
       "    <tr>\n",
       "      <th>12788</th>\n",
       "      <td>06/06/2012</td>\n",
       "      <td>blond</td>\n",
       "      <td>57.0</td>\n",
       "      <td>14.0</td>\n",
       "      <td>33242.0</td>\n",
       "      <td>M</td>\n",
       "      <td>licence</td>\n",
       "      <td>geologie</td>\n",
       "      <td>66.78</td>\n",
       "      <td>non</td>\n",
       "      <td>0</td>\n",
       "    </tr>\n",
       "    <tr>\n",
       "      <th>15676</th>\n",
       "      <td>16/10/2010</td>\n",
       "      <td>blond</td>\n",
       "      <td>41.0</td>\n",
       "      <td>13.0</td>\n",
       "      <td>31138.0</td>\n",
       "      <td>M</td>\n",
       "      <td>master</td>\n",
       "      <td>geologie</td>\n",
       "      <td>92.83</td>\n",
       "      <td>oui</td>\n",
       "      <td>0</td>\n",
       "    </tr>\n",
       "    <tr>\n",
       "      <th>13270</th>\n",
       "      <td>18/05/2010</td>\n",
       "      <td>brun</td>\n",
       "      <td>42.0</td>\n",
       "      <td>14.0</td>\n",
       "      <td>40774.0</td>\n",
       "      <td>F</td>\n",
       "      <td>licence</td>\n",
       "      <td>detective</td>\n",
       "      <td>70.87</td>\n",
       "      <td>non</td>\n",
       "      <td>0</td>\n",
       "    </tr>\n",
       "  </tbody>\n",
       "</table>\n",
       "</div>"
      ],
      "text/plain": [
       "             date  cheveux   age   exp  salaire sexe   diplome specialite  \\\n",
       "8869   20/11/2011     roux  33.0   1.0  29478.0    F   licence  detective   \n",
       "1855   13/05/2010  chatain  26.0  14.0  21734.0    F  doctorat     forage   \n",
       "12788  06/06/2012    blond  57.0  14.0  33242.0    M   licence   geologie   \n",
       "15676  16/10/2010    blond  41.0  13.0  31138.0    M    master   geologie   \n",
       "13270  18/05/2010     brun  42.0  14.0  40774.0    F   licence  detective   \n",
       "\n",
       "         note dispo  embauche  \n",
       "8869    93.55   non         0  \n",
       "1855   125.80   oui         0  \n",
       "12788   66.78   non         0  \n",
       "15676   92.83   oui         0  \n",
       "13270   70.87   non         0  "
      ]
     },
     "execution_count": 38,
     "metadata": {},
     "output_type": "execute_result"
    }
   ],
   "source": [
    "df.sample(5)  # Affiche 5 lignes aléatoires du dataset"
   ]
  },
  {
   "cell_type": "markdown",
   "id": "52898abe",
   "metadata": {},
   "source": [
    "On remarque qu'il n'y a pas de colonne id. On va la créer à partir de l'index"
   ]
  },
  {
   "cell_type": "code",
   "execution_count": 39,
   "id": "cc9f0647",
   "metadata": {},
   "outputs": [
    {
     "data": {
      "text/html": [
       "<div>\n",
       "<style scoped>\n",
       "    .dataframe tbody tr th:only-of-type {\n",
       "        vertical-align: middle;\n",
       "    }\n",
       "\n",
       "    .dataframe tbody tr th {\n",
       "        vertical-align: top;\n",
       "    }\n",
       "\n",
       "    .dataframe thead th {\n",
       "        text-align: right;\n",
       "    }\n",
       "</style>\n",
       "<table border=\"1\" class=\"dataframe\">\n",
       "  <thead>\n",
       "    <tr style=\"text-align: right;\">\n",
       "      <th></th>\n",
       "      <th>id</th>\n",
       "      <th>date</th>\n",
       "      <th>cheveux</th>\n",
       "      <th>age</th>\n",
       "      <th>exp</th>\n",
       "      <th>salaire</th>\n",
       "      <th>sexe</th>\n",
       "      <th>diplome</th>\n",
       "      <th>specialite</th>\n",
       "      <th>note</th>\n",
       "      <th>dispo</th>\n",
       "      <th>embauche</th>\n",
       "    </tr>\n",
       "  </thead>\n",
       "  <tbody>\n",
       "    <tr>\n",
       "      <th>0</th>\n",
       "      <td>0</td>\n",
       "      <td>02/06/2012</td>\n",
       "      <td>roux</td>\n",
       "      <td>25.0</td>\n",
       "      <td>9.0</td>\n",
       "      <td>26803.0</td>\n",
       "      <td>F</td>\n",
       "      <td>licence</td>\n",
       "      <td>geologie</td>\n",
       "      <td>97.08</td>\n",
       "      <td>non</td>\n",
       "      <td>0</td>\n",
       "    </tr>\n",
       "    <tr>\n",
       "      <th>1</th>\n",
       "      <td>1</td>\n",
       "      <td>21/04/2011</td>\n",
       "      <td>blond</td>\n",
       "      <td>35.0</td>\n",
       "      <td>13.0</td>\n",
       "      <td>38166.0</td>\n",
       "      <td>M</td>\n",
       "      <td>licence</td>\n",
       "      <td>forage</td>\n",
       "      <td>63.86</td>\n",
       "      <td>non</td>\n",
       "      <td>0</td>\n",
       "    </tr>\n",
       "    <tr>\n",
       "      <th>2</th>\n",
       "      <td>2</td>\n",
       "      <td>07/09/2012</td>\n",
       "      <td>blond</td>\n",
       "      <td>29.0</td>\n",
       "      <td>13.0</td>\n",
       "      <td>35207.0</td>\n",
       "      <td>M</td>\n",
       "      <td>licence</td>\n",
       "      <td>geologie</td>\n",
       "      <td>78.50</td>\n",
       "      <td>non</td>\n",
       "      <td>0</td>\n",
       "    </tr>\n",
       "    <tr>\n",
       "      <th>3</th>\n",
       "      <td>3</td>\n",
       "      <td>01/07/2011</td>\n",
       "      <td>brun</td>\n",
       "      <td>NaN</td>\n",
       "      <td>12.0</td>\n",
       "      <td>32442.0</td>\n",
       "      <td>M</td>\n",
       "      <td>licence</td>\n",
       "      <td>geologie</td>\n",
       "      <td>45.09</td>\n",
       "      <td>non</td>\n",
       "      <td>0</td>\n",
       "    </tr>\n",
       "    <tr>\n",
       "      <th>4</th>\n",
       "      <td>4</td>\n",
       "      <td>07/08/2012</td>\n",
       "      <td>roux</td>\n",
       "      <td>35.0</td>\n",
       "      <td>6.0</td>\n",
       "      <td>28533.0</td>\n",
       "      <td>F</td>\n",
       "      <td>licence</td>\n",
       "      <td>detective</td>\n",
       "      <td>81.91</td>\n",
       "      <td>non</td>\n",
       "      <td>0</td>\n",
       "    </tr>\n",
       "  </tbody>\n",
       "</table>\n",
       "</div>"
      ],
      "text/plain": [
       "   id        date cheveux   age   exp  salaire sexe  diplome specialite  \\\n",
       "0   0  02/06/2012    roux  25.0   9.0  26803.0    F  licence   geologie   \n",
       "1   1  21/04/2011   blond  35.0  13.0  38166.0    M  licence     forage   \n",
       "2   2  07/09/2012   blond  29.0  13.0  35207.0    M  licence   geologie   \n",
       "3   3  01/07/2011    brun   NaN  12.0  32442.0    M  licence   geologie   \n",
       "4   4  07/08/2012    roux  35.0   6.0  28533.0    F  licence  detective   \n",
       "\n",
       "    note dispo  embauche  \n",
       "0  97.08   non         0  \n",
       "1  63.86   non         0  \n",
       "2  78.50   non         0  \n",
       "3  45.09   non         0  \n",
       "4  81.91   non         0  "
      ]
     },
     "execution_count": 39,
     "metadata": {},
     "output_type": "execute_result"
    }
   ],
   "source": [
    "df = df.reset_index().rename(columns={'index': 'id'})\n",
    "df.head()"
   ]
  },
  {
   "cell_type": "code",
   "execution_count": 40,
   "id": "897f2211",
   "metadata": {},
   "outputs": [
    {
     "data": {
      "text/plain": [
       "Index(['id', 'date', 'cheveux', 'age', 'exp', 'salaire', 'sexe', 'diplome',\n",
       "       'specialite', 'note', 'dispo', 'embauche'],\n",
       "      dtype='object')"
      ]
     },
     "execution_count": 40,
     "metadata": {},
     "output_type": "execute_result"
    }
   ],
   "source": [
    "df.columns"
   ]
  },
  {
   "cell_type": "markdown",
   "id": "a859856d",
   "metadata": {},
   "source": [
    "# <span style=\"color:#EEE8AA\">Analyse descriptive </span>"
   ]
  },
  {
   "cell_type": "code",
   "execution_count": 41,
   "id": "b348a588",
   "metadata": {},
   "outputs": [
    {
     "name": "stdout",
     "output_type": "stream",
     "text": [
      "<class 'pandas.core.frame.DataFrame'>\n",
      "RangeIndex: 20000 entries, 0 to 19999\n",
      "Data columns (total 12 columns):\n",
      " #   Column      Non-Null Count  Dtype  \n",
      "---  ------      --------------  -----  \n",
      " 0   id          20000 non-null  int64  \n",
      " 1   date        19909 non-null  object \n",
      " 2   cheveux     19895 non-null  object \n",
      " 3   age         19909 non-null  object \n",
      " 4   exp         19904 non-null  object \n",
      " 5   salaire     19905 non-null  object \n",
      " 6   sexe        19900 non-null  object \n",
      " 7   diplome     19891 non-null  object \n",
      " 8   specialite  19907 non-null  object \n",
      " 9   note        19886 non-null  float64\n",
      " 10  dispo       19894 non-null  object \n",
      " 11  embauche    20000 non-null  int64  \n",
      "dtypes: float64(1), int64(2), object(9)\n",
      "memory usage: 1.8+ MB\n"
     ]
    }
   ],
   "source": [
    "df.info()"
   ]
  },
  {
   "cell_type": "markdown",
   "id": "c310e3d9",
   "metadata": {},
   "source": [
    "On voit qu'il y a 12 variables et 20000 lignes. \n",
    "Il y a des missing values pour toutes les variables sauf ID et embauche."
   ]
  },
  {
   "cell_type": "markdown",
   "id": "f04682c1",
   "metadata": {},
   "source": [
    "### <span style=\"color:#EEE8AA\">1. Identifier les variables numeriques et categorielles </span>"
   ]
  },
  {
   "cell_type": "code",
   "execution_count": 42,
   "id": "603d40a0",
   "metadata": {},
   "outputs": [
    {
     "name": "stdout",
     "output_type": "stream",
     "text": [
      "Liste des colonnes catégorielles :\n",
      "['cheveux', 'sexe', 'diplome', 'specialite', 'dispo', 'embauche']\n",
      "\n",
      "Liste des colonnes numériques :\n",
      "['age', 'exp', 'salaire', 'note']\n"
     ]
    }
   ],
   "source": [
    "# EXERCICE : \n",
    "\n",
    "# Identifions tout d'abord les colonnes catégorielles\n",
    "col_categoricals = ['cheveux', 'sexe', 'diplome',\n",
    "                    'specialite', 'dispo', 'embauche']\n",
    "# On a dévidé de ne pas prendre 'id' car c'est un identifiant unique\n",
    "# Puis les numériques\n",
    "col_numericals = ['age', 'exp', 'salaire', 'note']\n",
    "# 'date' n'est pas pris en compte car il faudrait le transformer en datetime\n",
    "\n",
    "print(f\"Liste des colonnes catégorielles :\\n{col_categoricals}\")\n",
    "print(f\"\\nListe des colonnes numériques :\\n{col_numericals}\")"
   ]
  },
  {
   "cell_type": "code",
   "execution_count": 43,
   "id": "4114e4df",
   "metadata": {},
   "outputs": [
    {
     "data": {
      "text/html": [
       "<div>\n",
       "<style scoped>\n",
       "    .dataframe tbody tr th:only-of-type {\n",
       "        vertical-align: middle;\n",
       "    }\n",
       "\n",
       "    .dataframe tbody tr th {\n",
       "        vertical-align: top;\n",
       "    }\n",
       "\n",
       "    .dataframe thead th {\n",
       "        text-align: right;\n",
       "    }\n",
       "</style>\n",
       "<table border=\"1\" class=\"dataframe\">\n",
       "  <thead>\n",
       "    <tr style=\"text-align: right;\">\n",
       "      <th></th>\n",
       "      <th>id</th>\n",
       "      <th>date</th>\n",
       "      <th>cheveux</th>\n",
       "      <th>age</th>\n",
       "      <th>exp</th>\n",
       "      <th>salaire</th>\n",
       "      <th>sexe</th>\n",
       "      <th>diplome</th>\n",
       "      <th>specialite</th>\n",
       "      <th>note</th>\n",
       "      <th>dispo</th>\n",
       "      <th>embauche</th>\n",
       "    </tr>\n",
       "  </thead>\n",
       "  <tbody>\n",
       "    <tr>\n",
       "      <th>0</th>\n",
       "      <td>0</td>\n",
       "      <td>02/06/2012</td>\n",
       "      <td>roux</td>\n",
       "      <td>25.0</td>\n",
       "      <td>9.0</td>\n",
       "      <td>26803.0</td>\n",
       "      <td>F</td>\n",
       "      <td>licence</td>\n",
       "      <td>geologie</td>\n",
       "      <td>97.08</td>\n",
       "      <td>non</td>\n",
       "      <td>0</td>\n",
       "    </tr>\n",
       "    <tr>\n",
       "      <th>1</th>\n",
       "      <td>1</td>\n",
       "      <td>21/04/2011</td>\n",
       "      <td>blond</td>\n",
       "      <td>35.0</td>\n",
       "      <td>13.0</td>\n",
       "      <td>38166.0</td>\n",
       "      <td>M</td>\n",
       "      <td>licence</td>\n",
       "      <td>forage</td>\n",
       "      <td>63.86</td>\n",
       "      <td>non</td>\n",
       "      <td>0</td>\n",
       "    </tr>\n",
       "    <tr>\n",
       "      <th>2</th>\n",
       "      <td>2</td>\n",
       "      <td>07/09/2012</td>\n",
       "      <td>blond</td>\n",
       "      <td>29.0</td>\n",
       "      <td>13.0</td>\n",
       "      <td>35207.0</td>\n",
       "      <td>M</td>\n",
       "      <td>licence</td>\n",
       "      <td>geologie</td>\n",
       "      <td>78.50</td>\n",
       "      <td>non</td>\n",
       "      <td>0</td>\n",
       "    </tr>\n",
       "    <tr>\n",
       "      <th>3</th>\n",
       "      <td>3</td>\n",
       "      <td>01/07/2011</td>\n",
       "      <td>brun</td>\n",
       "      <td>NaN</td>\n",
       "      <td>12.0</td>\n",
       "      <td>32442.0</td>\n",
       "      <td>M</td>\n",
       "      <td>licence</td>\n",
       "      <td>geologie</td>\n",
       "      <td>45.09</td>\n",
       "      <td>non</td>\n",
       "      <td>0</td>\n",
       "    </tr>\n",
       "    <tr>\n",
       "      <th>4</th>\n",
       "      <td>4</td>\n",
       "      <td>07/08/2012</td>\n",
       "      <td>roux</td>\n",
       "      <td>35.0</td>\n",
       "      <td>6.0</td>\n",
       "      <td>28533.0</td>\n",
       "      <td>F</td>\n",
       "      <td>licence</td>\n",
       "      <td>detective</td>\n",
       "      <td>81.91</td>\n",
       "      <td>non</td>\n",
       "      <td>0</td>\n",
       "    </tr>\n",
       "  </tbody>\n",
       "</table>\n",
       "</div>"
      ],
      "text/plain": [
       "   id        date cheveux   age   exp  salaire sexe  diplome specialite  \\\n",
       "0   0  02/06/2012    roux  25.0   9.0  26803.0    F  licence   geologie   \n",
       "1   1  21/04/2011   blond  35.0  13.0  38166.0    M  licence     forage   \n",
       "2   2  07/09/2012   blond  29.0  13.0  35207.0    M  licence   geologie   \n",
       "3   3  01/07/2011    brun   NaN  12.0  32442.0    M  licence   geologie   \n",
       "4   4  07/08/2012    roux  35.0   6.0  28533.0    F  licence  detective   \n",
       "\n",
       "    note dispo  embauche  \n",
       "0  97.08   non         0  \n",
       "1  63.86   non         0  \n",
       "2  78.50   non         0  \n",
       "3  45.09   non         0  \n",
       "4  81.91   non         0  "
      ]
     },
     "execution_count": 43,
     "metadata": {},
     "output_type": "execute_result"
    }
   ],
   "source": [
    "df1 = df.copy()\n",
    "df1.head()"
   ]
  },
  {
   "cell_type": "markdown",
   "id": "fbf5a448",
   "metadata": {},
   "source": [
    "On créer une boucle pour remplacer les valeurs vides ou espaces par des NaN et ensuite convertir en float"
   ]
  },
  {
   "cell_type": "code",
   "execution_count": 44,
   "id": "264b5b71",
   "metadata": {},
   "outputs": [],
   "source": [
    "# Convertir les données numerique au bon format \"SI BESOIN\"\n",
    "#### CODEZ-ICI ####\n",
    "for col in col_numericals:\n",
    "    df1[col] = df1[col].replace(['', ' '], np.nan).astype(float)"
   ]
  },
  {
   "cell_type": "code",
   "execution_count": 46,
   "id": "2e4f02f8",
   "metadata": {},
   "outputs": [
    {
     "name": "stdout",
     "output_type": "stream",
     "text": [
      "<class 'pandas.core.frame.DataFrame'>\n",
      "RangeIndex: 20000 entries, 0 to 19999\n",
      "Data columns (total 4 columns):\n",
      " #   Column   Non-Null Count  Dtype  \n",
      "---  ------   --------------  -----  \n",
      " 0   age      19899 non-null  float64\n",
      " 1   exp      19894 non-null  float64\n",
      " 2   salaire  19895 non-null  float64\n",
      " 3   note     19886 non-null  float64\n",
      "dtypes: float64(4)\n",
      "memory usage: 625.1 KB\n"
     ]
    }
   ],
   "source": [
    "df1[col_numericals].info() "
   ]
  },
  {
   "cell_type": "markdown",
   "id": "7d224d24",
   "metadata": {},
   "source": [
    "On voit que les colonnes numériques sont bien en float maintenant."
   ]
  },
  {
   "cell_type": "code",
   "execution_count": 47,
   "id": "d20fc568",
   "metadata": {},
   "outputs": [
    {
     "name": "stdout",
     "output_type": "stream",
     "text": [
      "<class 'pandas.core.frame.DataFrame'>\n",
      "RangeIndex: 20000 entries, 0 to 19999\n",
      "Data columns (total 12 columns):\n",
      " #   Column      Non-Null Count  Dtype         \n",
      "---  ------      --------------  -----         \n",
      " 0   id          20000 non-null  int64         \n",
      " 1   date        19909 non-null  datetime64[ns]\n",
      " 2   cheveux     19895 non-null  object        \n",
      " 3   age         19899 non-null  float64       \n",
      " 4   exp         19894 non-null  float64       \n",
      " 5   salaire     19895 non-null  float64       \n",
      " 6   sexe        19900 non-null  object        \n",
      " 7   diplome     19891 non-null  object        \n",
      " 8   specialite  19907 non-null  object        \n",
      " 9   note        19886 non-null  float64       \n",
      " 10  dispo       19894 non-null  object        \n",
      " 11  embauche    20000 non-null  int64         \n",
      "dtypes: datetime64[ns](1), float64(4), int64(2), object(5)\n",
      "memory usage: 1.8+ MB\n"
     ]
    }
   ],
   "source": [
    "df1['date']= pd.to_datetime(df1['date'], format='%d/%m/%Y')\n",
    "df1.info() "
   ]
  },
  {
   "cell_type": "markdown",
   "id": "9a8dc793",
   "metadata": {},
   "source": [
    "On voit que la colonne date est bien en datetime maintenant."
   ]
  },
  {
   "cell_type": "markdown",
   "id": "ee084ce2",
   "metadata": {},
   "source": [
    "### <span style=\"color:#EEE8AA\">2. Analyse de la distribution des variables numeriques </span>"
   ]
  },
  {
   "cell_type": "code",
   "execution_count": 48,
   "id": "24291760",
   "metadata": {},
   "outputs": [
    {
     "data": {
      "image/png": "[encoded data removed]",
      "text/plain": [
       "<Figure size 1700x1400 with 4 Axes>"
      ]
     },
     "metadata": {},
     "output_type": "display_data"
    }
   ],
   "source": [
    "ncols = 2\n",
    "nrows = len(col_numericals) // ncols + (len(col_numericals) % ncols > 0)\n",
    " \n",
    "plt.figure(figsize=(17, 14))\n",
    "plt.subplots_adjust(hspace=1)\n",
    "plt.suptitle(\"Distribution des \\nvariables continues\", fontsize=18, y=0.95)\n",
    " \n",
    "for n, variable in enumerate(col_numericals):\n",
    "    # add a new subplot iteratively\n",
    "    ax = plt.subplot(nrows, ncols, n + 1)\n",
    " \n",
    "    sns.kdeplot(ax=ax, data=df1[variable], legend=None, shade=True)\n",
    "    ax.grid(visible=True, which='major', axis='y') \n",
    "    ax.spines['top'].set_visible(False)\n",
    "    ax.spines['right'].set_visible(False)\n",
    "    ax.spines['bottom'].set_visible(False)\n",
    "    ax.spines['left'].set_visible(False)\n",
    "    \n",
    "    ax.set_title(variable, loc= 'center', fontsize=12)\n",
    "\n"
   ]
  },
  {
   "cell_type": "markdown",
   "id": "2d8d74a3",
   "metadata": {},
   "source": [
    "#### Analyse\n",
    "\n",
    "- On constate que les distributions ont plutot une forme normale.  \n",
    "- Cependant, on remarque que la variable expérience a une distribution un peu différente avec des pics entre 8 et 12 ans d'expérience. Surement aussi car cette variable est quatitative discrète."
   ]
  },
  {
   "cell_type": "markdown",
   "id": "96d7e01f",
   "metadata": {},
   "source": [
    "### <span style=\"color:#EEE8AA\">3. Matrice de correlation </span>"
   ]
  },
  {
   "cell_type": "code",
   "execution_count": 49,
   "id": "f08b5aa8",
   "metadata": {},
   "outputs": [
    {
     "data": {
      "image/png": "[encoded data removed]",
      "text/plain": [
       "<Figure size 500x400 with 2 Axes>"
      ]
     },
     "metadata": {},
     "output_type": "display_data"
    }
   ],
   "source": [
    "# EXERCICE : \n",
    "\n",
    "# Correlation entre les variables numeriques\n",
    "\n",
    "matrice_corr = df1[col_numericals].corr() # On définit la matrice de corrélation entre les variables numériques\n",
    "\n",
    "# Heatmap de la matrice de correlation \n",
    "\n",
    "plt.figure(figsize=(5, 4))\n",
    "sns.heatmap(matrice_corr, annot=True, cmap='viridis', vmin=-1, vmax=1)\n",
    "plt.title(\"Matrice de corrélation des variables numériques\", fontsize=16)\n",
    "plt.show() \n",
    "\n",
    "# Que pouvez-vous conclure ?"
   ]
  },
  {
   "cell_type": "markdown",
   "id": "bab68306",
   "metadata": {},
   "source": [
    "- Il y a forte corrélation négative entre le salaire et la note. Plus la note au test de recherche d'or est élévé et plus le salaire demandé est bas. Autrement dit, les plus \"doués\" ont des prétentions de salaire plutot modestes.\n",
    "- Il semble y avoir une corrélation positive mais faible entre l'expérience (exp) et le salaire, ce qui semble logique car généralement, plus une personne a d'expérience, plus son salaire tend à être élevé. \n",
    "- La corrélation négative et quasi-nulle entre la note et l'expérience peut être  étrange a priori car on pourrait penser que les années d'expérience n'ont aucun impact sur la note (causalité). Mais on ne doit pas tirer de conclusions hatives directement\n",
    "- Les autres variables numériques ne montrent pas de corrélations significatives entre elles."
   ]
  },
  {
   "cell_type": "markdown",
   "id": "ffa67486",
   "metadata": {},
   "source": [
    "### <span style=\"color:#EEE8AA\">4. Identification des valeurs manquantes </span>"
   ]
  },
  {
   "cell_type": "code",
   "execution_count": 79,
   "id": "9c652fa3",
   "metadata": {},
   "outputs": [
    {
     "name": "stdout",
     "output_type": "stream",
     "text": [
      "Taux de valeurs manquantes par variable :\n",
      "note          0.570\n",
      "diplome       0.545\n",
      "exp           0.530\n",
      "dispo         0.530\n",
      "salaire       0.525\n",
      "cheveux       0.525\n",
      "age           0.505\n",
      "sexe          0.500\n",
      "specialite    0.465\n",
      "date          0.455\n",
      "dtype: float64\n"
     ]
    }
   ],
   "source": [
    "# EXERCICE : Laissez libre court à votre créativité et créez une fonction qui affiche le taux\n",
    "#            de valeurs manquantes de chaque variable pour chaque type (catégorielle et numérique)\n",
    "#            par ordre décroissant\n",
    "\n",
    "taux_missing_values(df1) "
   ]
  },
  {
   "cell_type": "markdown",
   "id": "19da3fa1",
   "metadata": {},
   "source": [
    "#### Que pouvez-vous conclure ?\n",
    "\n",
    "On remarque que hormis id et embauche, les autres variables ont des valeurs manquantes à hauteur de 0.5% environ.\n"
   ]
  },
  {
   "cell_type": "markdown",
   "id": "678578ef",
   "metadata": {},
   "source": [
    "### <span style=\"color:#EEE8AA\">5. Imputation des valeurs manquantes </span>"
   ]
  },
  {
   "cell_type": "markdown",
   "id": "0ff19189",
   "metadata": {},
   "source": [
    "#### <span style=\"color:#EEE8AA\">5.1 Variables numeriques </span>"
   ]
  },
  {
   "cell_type": "markdown",
   "id": "067d44f9",
   "metadata": {},
   "source": [
    "##### <span style=\"color:#EEE8AA\">5.1.1 Imputation par la moyenne </span>"
   ]
  },
  {
   "cell_type": "code",
   "execution_count": 80,
   "id": "e9368814",
   "metadata": {},
   "outputs": [],
   "source": [
    "# EXERCICE : Imputation des variables numériques avec la moyenne\n",
    "# Les variables imputées sont enregistrées dans de nouvelles colonnes.\n",
    "\n",
    "for col in col_numericals:  \n",
    "    df1[f\"{col}_imputed_mean\"] = df1[col].fillna(df1[col].mean())\n",
    "    # On crée une nouvelle colonne pour chaque variable numérique\n"
   ]
  },
  {
   "cell_type": "code",
   "execution_count": 82,
   "id": "8718826d",
   "metadata": {},
   "outputs": [
    {
     "data": {
      "text/html": [
       "<div>\n",
       "<style scoped>\n",
       "    .dataframe tbody tr th:only-of-type {\n",
       "        vertical-align: middle;\n",
       "    }\n",
       "\n",
       "    .dataframe tbody tr th {\n",
       "        vertical-align: top;\n",
       "    }\n",
       "\n",
       "    .dataframe thead th {\n",
       "        text-align: right;\n",
       "    }\n",
       "</style>\n",
       "<table border=\"1\" class=\"dataframe\">\n",
       "  <thead>\n",
       "    <tr style=\"text-align: right;\">\n",
       "      <th></th>\n",
       "      <th>age</th>\n",
       "      <th>exp</th>\n",
       "      <th>salaire</th>\n",
       "      <th>note</th>\n",
       "    </tr>\n",
       "  </thead>\n",
       "  <tbody>\n",
       "    <tr>\n",
       "      <th>count</th>\n",
       "      <td>19899.000000</td>\n",
       "      <td>19894.000000</td>\n",
       "      <td>19895.000000</td>\n",
       "      <td>19886.000000</td>\n",
       "    </tr>\n",
       "    <tr>\n",
       "      <th>mean</th>\n",
       "      <td>35.004473</td>\n",
       "      <td>9.498794</td>\n",
       "      <td>34975.703443</td>\n",
       "      <td>75.168762</td>\n",
       "    </tr>\n",
       "    <tr>\n",
       "      <th>std</th>\n",
       "      <td>9.609154</td>\n",
       "      <td>3.011427</td>\n",
       "      <td>5003.151060</td>\n",
       "      <td>17.095926</td>\n",
       "    </tr>\n",
       "    <tr>\n",
       "      <th>min</th>\n",
       "      <td>-3.000000</td>\n",
       "      <td>-2.000000</td>\n",
       "      <td>14128.000000</td>\n",
       "      <td>8.680000</td>\n",
       "    </tr>\n",
       "    <tr>\n",
       "      <th>25%</th>\n",
       "      <td>29.000000</td>\n",
       "      <td>7.000000</td>\n",
       "      <td>31597.000000</td>\n",
       "      <td>63.720000</td>\n",
       "    </tr>\n",
       "    <tr>\n",
       "      <th>50%</th>\n",
       "      <td>35.000000</td>\n",
       "      <td>9.000000</td>\n",
       "      <td>34979.000000</td>\n",
       "      <td>75.080000</td>\n",
       "    </tr>\n",
       "    <tr>\n",
       "      <th>75%</th>\n",
       "      <td>41.000000</td>\n",
       "      <td>12.000000</td>\n",
       "      <td>38361.000000</td>\n",
       "      <td>86.617500</td>\n",
       "    </tr>\n",
       "    <tr>\n",
       "      <th>max</th>\n",
       "      <td>74.000000</td>\n",
       "      <td>23.000000</td>\n",
       "      <td>53977.000000</td>\n",
       "      <td>143.220000</td>\n",
       "    </tr>\n",
       "  </tbody>\n",
       "</table>\n",
       "</div>"
      ],
      "text/plain": [
       "                age           exp       salaire          note\n",
       "count  19899.000000  19894.000000  19895.000000  19886.000000\n",
       "mean      35.004473      9.498794  34975.703443     75.168762\n",
       "std        9.609154      3.011427   5003.151060     17.095926\n",
       "min       -3.000000     -2.000000  14128.000000      8.680000\n",
       "25%       29.000000      7.000000  31597.000000     63.720000\n",
       "50%       35.000000      9.000000  34979.000000     75.080000\n",
       "75%       41.000000     12.000000  38361.000000     86.617500\n",
       "max       74.000000     23.000000  53977.000000    143.220000"
      ]
     },
     "execution_count": 82,
     "metadata": {},
     "output_type": "execute_result"
    }
   ],
   "source": [
    "df1[col_numericals].describe()"
   ]
  },
  {
   "cell_type": "code",
   "execution_count": 100,
   "id": "4997f24f",
   "metadata": {},
   "outputs": [
    {
     "data": {
      "text/html": [
       "<div>\n",
       "<style scoped>\n",
       "    .dataframe tbody tr th:only-of-type {\n",
       "        vertical-align: middle;\n",
       "    }\n",
       "\n",
       "    .dataframe tbody tr th {\n",
       "        vertical-align: top;\n",
       "    }\n",
       "\n",
       "    .dataframe thead th {\n",
       "        text-align: right;\n",
       "    }\n",
       "</style>\n",
       "<table border=\"1\" class=\"dataframe\">\n",
       "  <thead>\n",
       "    <tr style=\"text-align: right;\">\n",
       "      <th></th>\n",
       "      <th>age_imputed_mean</th>\n",
       "      <th>exp_imputed_mean</th>\n",
       "      <th>salaire_imputed_mean</th>\n",
       "      <th>note_imputed_mean</th>\n",
       "    </tr>\n",
       "  </thead>\n",
       "  <tbody>\n",
       "    <tr>\n",
       "      <th>count</th>\n",
       "      <td>20000.000000</td>\n",
       "      <td>20000.000000</td>\n",
       "      <td>20000.000000</td>\n",
       "      <td>20000.000000</td>\n",
       "    </tr>\n",
       "    <tr>\n",
       "      <th>mean</th>\n",
       "      <td>35.004473</td>\n",
       "      <td>9.498794</td>\n",
       "      <td>34975.703443</td>\n",
       "      <td>75.168762</td>\n",
       "    </tr>\n",
       "    <tr>\n",
       "      <th>std</th>\n",
       "      <td>9.584859</td>\n",
       "      <td>3.003435</td>\n",
       "      <td>4989.999847</td>\n",
       "      <td>17.047131</td>\n",
       "    </tr>\n",
       "    <tr>\n",
       "      <th>min</th>\n",
       "      <td>-3.000000</td>\n",
       "      <td>-2.000000</td>\n",
       "      <td>14128.000000</td>\n",
       "      <td>8.680000</td>\n",
       "    </tr>\n",
       "    <tr>\n",
       "      <th>25%</th>\n",
       "      <td>29.000000</td>\n",
       "      <td>7.000000</td>\n",
       "      <td>31620.750000</td>\n",
       "      <td>63.807500</td>\n",
       "    </tr>\n",
       "    <tr>\n",
       "      <th>50%</th>\n",
       "      <td>35.000000</td>\n",
       "      <td>9.000000</td>\n",
       "      <td>34975.703443</td>\n",
       "      <td>75.168762</td>\n",
       "    </tr>\n",
       "    <tr>\n",
       "      <th>75%</th>\n",
       "      <td>41.000000</td>\n",
       "      <td>12.000000</td>\n",
       "      <td>38345.250000</td>\n",
       "      <td>86.550000</td>\n",
       "    </tr>\n",
       "    <tr>\n",
       "      <th>max</th>\n",
       "      <td>74.000000</td>\n",
       "      <td>23.000000</td>\n",
       "      <td>53977.000000</td>\n",
       "      <td>143.220000</td>\n",
       "    </tr>\n",
       "  </tbody>\n",
       "</table>\n",
       "</div>"
      ],
      "text/plain": [
       "       age_imputed_mean  exp_imputed_mean  salaire_imputed_mean  \\\n",
       "count      20000.000000      20000.000000          20000.000000   \n",
       "mean          35.004473          9.498794          34975.703443   \n",
       "std            9.584859          3.003435           4989.999847   \n",
       "min           -3.000000         -2.000000          14128.000000   \n",
       "25%           29.000000          7.000000          31620.750000   \n",
       "50%           35.000000          9.000000          34975.703443   \n",
       "75%           41.000000         12.000000          38345.250000   \n",
       "max           74.000000         23.000000          53977.000000   \n",
       "\n",
       "       note_imputed_mean  \n",
       "count       20000.000000  \n",
       "mean           75.168762  \n",
       "std            17.047131  \n",
       "min             8.680000  \n",
       "25%            63.807500  \n",
       "50%            75.168762  \n",
       "75%            86.550000  \n",
       "max           143.220000  "
      ]
     },
     "execution_count": 100,
     "metadata": {},
     "output_type": "execute_result"
    }
   ],
   "source": [
    "col_imputed_mean_numericals = ['age_imputed_mean', 'exp_imputed_mean',\n",
    "                          'salaire_imputed_mean', 'note_imputed_mean']\n",
    "df1[col_imputed_mean_numericals].describe()"
   ]
  },
  {
   "cell_type": "markdown",
   "id": "2c3d7f0a",
   "metadata": {},
   "source": [
    "Le écarts sont très très minimes"
   ]
  },
  {
   "cell_type": "markdown",
   "id": "1a9a1a24",
   "metadata": {},
   "source": [
    "##### <span style=\"color:#EEE8AA\">5.1.2 Imputation par la regression </span>"
   ]
  },
  {
   "cell_type": "code",
   "execution_count": 98,
   "id": "9216a3f6",
   "metadata": {},
   "outputs": [
    {
     "name": "stdout",
     "output_type": "stream",
     "text": [
      "\n",
      "Imputation de la variable 'age' par régression linéaire...\n",
      "100 valeurs imputées pour 'age'.\n",
      "\n",
      "Imputation de la variable 'exp' par régression linéaire...\n",
      "104 valeurs imputées pour 'exp'.\n",
      "\n",
      "Imputation de la variable 'salaire' par régression linéaire...\n",
      "105 valeurs imputées pour 'salaire'.\n",
      "\n",
      "Imputation de la variable 'note' par régression linéaire...\n",
      "113 valeurs imputées pour 'note'.\n"
     ]
    }
   ],
   "source": [
    "#EXERCICE : Imputation par régression\n",
    "# Laissez libre cours à votre créativité !\n",
    "# Pour chaque variable numérique contenant des valeurs manquantes, utilisez les variables explicatives appropriées afin d’imputer les valeurs manquantes à l’aide d’une méthode de régression.\n",
    "\n",
    "# On peut utiliser par exemple la régression linéaire pour imputer les valeurs manquantes \n",
    "# Imputation par régression linéaire\n",
    "\n",
    "for y in col_numericals:\n",
    "    print(f\"\\nImputation de la variable '{y}' par régression linéaire...\")\n",
    "\n",
    "    # Variables explicatives = toutes les autres colonnes numériques\n",
    "    X = [col for col in col_numericals if col != y]\n",
    "\n",
    "    # Séparation entre les lignes connues et manquantes pour cette variable\n",
    "    df1_train = df1[df1[y].notna()].dropna(subset=X)\n",
    "    df1_missing = df1[df1[y].isna()].dropna(subset=X)\n",
    "\n",
    "    # Entraînement du modèle\n",
    "    X_train = df1_train[X]\n",
    "    y_train = df1_train[y]\n",
    "    model = LinearRegression()\n",
    "    model.fit(X_train, y_train)\n",
    "\n",
    "    # Nouvelle colonne (copie de la colonne d'origine)\n",
    "    new_col = f\"{y}_imputed_regression\"\n",
    "    df1[new_col] = df1[y].copy()\n",
    "\n",
    "    # Si on a des lignes à prédire\n",
    "    #if not df1_missing.empty:\n",
    "    X_missing = df1_missing[X]\n",
    "    y_pred = model.predict(X_missing)      \n",
    "    # Remplacement des NaN uniquement dans la nouvelle colonne\n",
    "    df1.loc[X_missing.index, new_col] = y_pred\n",
    "    print(f\"{len(y_pred)} valeurs imputées pour '{y}'.\")\n"
   ]
  },
  {
   "cell_type": "code",
   "execution_count": 101,
   "id": "e14571e9",
   "metadata": {},
   "outputs": [
    {
     "data": {
      "text/html": [
       "<div>\n",
       "<style scoped>\n",
       "    .dataframe tbody tr th:only-of-type {\n",
       "        vertical-align: middle;\n",
       "    }\n",
       "\n",
       "    .dataframe tbody tr th {\n",
       "        vertical-align: top;\n",
       "    }\n",
       "\n",
       "    .dataframe thead th {\n",
       "        text-align: right;\n",
       "    }\n",
       "</style>\n",
       "<table border=\"1\" class=\"dataframe\">\n",
       "  <thead>\n",
       "    <tr style=\"text-align: right;\">\n",
       "      <th></th>\n",
       "      <th>age_imputed_regression</th>\n",
       "      <th>exp_imputed_regression</th>\n",
       "      <th>salaire_imputed_regression</th>\n",
       "      <th>note_imputed_regression</th>\n",
       "    </tr>\n",
       "  </thead>\n",
       "  <tbody>\n",
       "    <tr>\n",
       "      <th>count</th>\n",
       "      <td>19999.000000</td>\n",
       "      <td>19998.000000</td>\n",
       "      <td>20000.000000</td>\n",
       "      <td>19999.000000</td>\n",
       "    </tr>\n",
       "    <tr>\n",
       "      <th>mean</th>\n",
       "      <td>35.004516</td>\n",
       "      <td>9.498797</td>\n",
       "      <td>34974.917268</td>\n",
       "      <td>75.165377</td>\n",
       "    </tr>\n",
       "    <tr>\n",
       "      <th>std</th>\n",
       "      <td>9.585100</td>\n",
       "      <td>3.003587</td>\n",
       "      <td>4993.054685</td>\n",
       "      <td>17.056493</td>\n",
       "    </tr>\n",
       "    <tr>\n",
       "      <th>min</th>\n",
       "      <td>-3.000000</td>\n",
       "      <td>-2.000000</td>\n",
       "      <td>14128.000000</td>\n",
       "      <td>8.680000</td>\n",
       "    </tr>\n",
       "    <tr>\n",
       "      <th>25%</th>\n",
       "      <td>29.000000</td>\n",
       "      <td>7.000000</td>\n",
       "      <td>31605.750000</td>\n",
       "      <td>63.795000</td>\n",
       "    </tr>\n",
       "    <tr>\n",
       "      <th>50%</th>\n",
       "      <td>35.000000</td>\n",
       "      <td>9.000000</td>\n",
       "      <td>34979.000000</td>\n",
       "      <td>75.070000</td>\n",
       "    </tr>\n",
       "    <tr>\n",
       "      <th>75%</th>\n",
       "      <td>41.000000</td>\n",
       "      <td>12.000000</td>\n",
       "      <td>38348.250000</td>\n",
       "      <td>86.560000</td>\n",
       "    </tr>\n",
       "    <tr>\n",
       "      <th>max</th>\n",
       "      <td>74.000000</td>\n",
       "      <td>23.000000</td>\n",
       "      <td>53977.000000</td>\n",
       "      <td>143.220000</td>\n",
       "    </tr>\n",
       "  </tbody>\n",
       "</table>\n",
       "</div>"
      ],
      "text/plain": [
       "       age_imputed_regression  exp_imputed_regression  \\\n",
       "count            19999.000000            19998.000000   \n",
       "mean                35.004516                9.498797   \n",
       "std                  9.585100                3.003587   \n",
       "min                 -3.000000               -2.000000   \n",
       "25%                 29.000000                7.000000   \n",
       "50%                 35.000000                9.000000   \n",
       "75%                 41.000000               12.000000   \n",
       "max                 74.000000               23.000000   \n",
       "\n",
       "       salaire_imputed_regression  note_imputed_regression  \n",
       "count                20000.000000             19999.000000  \n",
       "mean                 34974.917268                75.165377  \n",
       "std                   4993.054685                17.056493  \n",
       "min                  14128.000000                 8.680000  \n",
       "25%                  31605.750000                63.795000  \n",
       "50%                  34979.000000                75.070000  \n",
       "75%                  38348.250000                86.560000  \n",
       "max                  53977.000000               143.220000  "
      ]
     },
     "execution_count": 101,
     "metadata": {},
     "output_type": "execute_result"
    }
   ],
   "source": [
    "col_imputed_regression_numericals = ['age_imputed_regression', 'exp_imputed_regression',\n",
    "                          'salaire_imputed_regression', 'note_imputed_regression']\n",
    "df1[col_imputed_regression_numericals].describe()"
   ]
  },
  {
   "cell_type": "markdown",
   "id": "77832503",
   "metadata": {},
   "source": [
    "#### Remarque :\n",
    "- On a encore quelques valeurs manquantes après imputation par régression linéaire car\n",
    "  certaines lignes avaient des variables explicatives manquantes.\n",
    "- Vu leur très très faible part, on remplace ces valeurs manquantes par la moyenne"
   ]
  },
  {
   "cell_type": "code",
   "execution_count": 103,
   "id": "66478355",
   "metadata": {},
   "outputs": [],
   "source": [
    "for col in col_imputed_regression_numericals:  \n",
    "    df1[col] = df1[col].fillna(df1[col].mean())"
   ]
  },
  {
   "cell_type": "code",
   "execution_count": 106,
   "id": "528a7420",
   "metadata": {},
   "outputs": [
    {
     "name": "stdout",
     "output_type": "stream",
     "text": [
      "<class 'pandas.core.frame.DataFrame'>\n",
      "RangeIndex: 20000 entries, 0 to 19999\n",
      "Data columns (total 4 columns):\n",
      " #   Column                      Non-Null Count  Dtype  \n",
      "---  ------                      --------------  -----  \n",
      " 0   age_imputed_regression      20000 non-null  float64\n",
      " 1   exp_imputed_regression      20000 non-null  float64\n",
      " 2   salaire_imputed_regression  20000 non-null  float64\n",
      " 3   note_imputed_regression     20000 non-null  float64\n",
      "dtypes: float64(4)\n",
      "memory usage: 625.1 KB\n"
     ]
    }
   ],
   "source": [
    "df1[col_imputed_regression_numericals].info()"
   ]
  },
  {
   "cell_type": "markdown",
   "id": "7a2e74aa",
   "metadata": {},
   "source": [
    "##### <span style=\"color:#EEE8AA\">5.1.3 Comparer la distribution des variables imputer </span>"
   ]
  },
  {
   "cell_type": "code",
   "execution_count": 109,
   "id": "505d1794",
   "metadata": {},
   "outputs": [
    {
     "data": {
      "image/png": "[encoded data removed]",
      "text/plain": [
       "<Figure size 1700x1400 with 4 Axes>"
      ]
     },
     "metadata": {},
     "output_type": "display_data"
    }
   ],
   "source": [
    "# EXERCICE : Laissez libre court à votre créativité \n",
    "# Pour chaque variable numerique\n",
    "# Comparer la distribution entre l'imputation par la moyenne et l'imputation par Regression\n",
    "\n",
    "\n",
    "ncols = 2\n",
    "nrows = len(col_numericals) // ncols + (len(col_numericals) % ncols > 0)\n",
    "plt.figure(figsize=(17, 14))\n",
    "plt.subplots_adjust(hspace=1)\n",
    "plt.suptitle(\"Comparaison des distributions après imputation\", fontsize=18, y=0.95)\n",
    "for n, variable in enumerate(col_numericals):\n",
    "    \n",
    "    ax = plt.subplot(nrows, ncols, n + 1)\n",
    "\n",
    "    sns.kdeplot(ax=ax, data=df1[f\"{variable}_imputed_mean\"], label='Imputation Moyenne', shade=True)\n",
    "    sns.kdeplot(ax=ax, data=df1[f\"{variable}_imputed_regression\"], label='Imputation Régression', shade=True)\n",
    "    \n",
    "    ax.grid(visible=True, which='major', axis='y') \n",
    "    ax.spines['top'].set_visible(False)\n",
    "    ax.spines['right'].set_visible(False)\n",
    "    ax.spines['bottom'].set_visible(False)\n",
    "    ax.spines['left'].set_visible(False)\n",
    "    \n",
    "    ax.set_title(variable, loc= 'center', fontsize=12)\n",
    "    ax.legend()\n",
    "    \n"
   ]
  },
  {
   "cell_type": "markdown",
   "id": "d9d275ab",
   "metadata": {},
   "source": [
    "#### Que pouvez-vous conclure ?\n",
    "\n",
    "On remarque que les distributions après imputation par régression et par la moyenne sont très proches les unes des autres."
   ]
  },
  {
   "cell_type": "markdown",
   "id": "4a736b09",
   "metadata": {},
   "source": [
    "#### <span style=\"color:#EEE8AA\">5.2 Variables categorielles </span>"
   ]
  },
  {
   "cell_type": "code",
   "execution_count": null,
   "id": "6feb68c7",
   "metadata": {},
   "outputs": [],
   "source": [
    "# EXERCICE : Utiliser une methode adequate pour imputer les variables categorielles\n",
    "# Les variables imputées sont enregistrées dans de nouvelles colonnes.\n",
    "\n",
    "for col in col_categoricals:\n",
    "    df1[f'{col}_imputed_mode'] = df1[col].fillna(df1[col].mode()[0])\n",
    "    # On crée une nouvelle colonne pour chaque variable catégorielle"
   ]
  },
  {
   "cell_type": "markdown",
   "id": "cbe543ad",
   "metadata": {},
   "source": [
    "### <span style=\"color:#EEE8AA\">6. Detection des outliers </span>"
   ]
  },
  {
   "cell_type": "code",
   "execution_count": 111,
   "id": "81a18f66",
   "metadata": {},
   "outputs": [
    {
     "data": {
      "image/png": "[encoded data removed]",
      "text/plain": [
       "<Figure size 1700x1400 with 4 Axes>"
      ]
     },
     "metadata": {},
     "output_type": "display_data"
    }
   ],
   "source": [
    "# On affiche les boxplots\n",
    "temp=pd.melt(df1[col_numericals].reset_index(), id_vars='index', value_vars=col_numericals).iloc[:,-2:] #On change ici avec df1 car c'est le dataframe qui est nettoyé\n",
    " \n",
    "ncols = 2\n",
    "nrows = len(col_numericals) // ncols + (len(col_numericals) % ncols > 0)\n",
    " \n",
    "plt.figure(figsize=(17, 14))\n",
    "plt.subplots_adjust(hspace=1)\n",
    "plt.suptitle(\"Boxplot des \\nvariables continues\", fontsize=18, y=0.95)\n",
    " \n",
    "for n, variable in enumerate(col_numericals):\n",
    "    # add a new subplot iteratively\n",
    "    ax = plt.subplot(nrows, ncols, n + 1)\n",
    " \n",
    "    sns.boxplot(ax=ax, data=temp[temp['variable']==variable], orient='h')\n",
    "    #sns.kdeplot(ax=ax, data=temp[temp['variable']==variable], legend=None, palette=customPalette, shade=True)\n",
    "    ax.grid(visible=True, which='major', axis='y')\n",
    "    ax.spines['top'].set_visible(False)\n",
    "    ax.spines['right'].set_visible(False)\n",
    "    ax.spines['bottom'].set_visible(False)\n",
    "    ax.spines['left'].set_visible(False)\n",
    "    \n",
    "    ax.set_title(variable, loc= 'center', fontsize=12)\n"
   ]
  },
  {
   "cell_type": "markdown",
   "id": "45f4b34d",
   "metadata": {},
   "source": [
    "#### Analyse\n",
    "\n",
    "- Age : 25% de la population a moins de 28ans, la médiane est à 35 ans, et 75% de la population a moins de 42 ans.  \n",
    "- Expérience : 25% de la population a moins de 6 ans d'expérience, la médiane est à 8 ans, et 25% de la population a plus de 12 ans d'expérience.  \n",
    "- Salaire : 25% de la population gagne moins de 32000, la médiane est à 35.000 euros par an, et 75% de la population gagne moins de 60000. On a des outliers avec des valeurs tres elevée a plus de 50k.  \n",
    "- Note : Une moitié de la population a au moins 70/100 en note et il y a des notes qui dépassent 100, ce qui est étrange.  \n"
   ]
  },
  {
   "cell_type": "code",
   "execution_count": 112,
   "id": "b0fa7387",
   "metadata": {},
   "outputs": [
    {
     "name": "stdout",
     "output_type": "stream",
     "text": [
      "Outliers dans la colonne age :\n",
      "age\n",
      "0    19785\n",
      "1      215\n",
      "Name: count, dtype: int64\n",
      "\n",
      "\n",
      "Outliers dans la colonne exp :\n",
      "exp\n",
      "0    19992\n",
      "1        8\n",
      "Name: count, dtype: int64\n",
      "\n",
      "\n",
      "Outliers dans la colonne salaire :\n",
      "salaire\n",
      "0    19877\n",
      "1      123\n",
      "Name: count, dtype: int64\n",
      "\n",
      "\n",
      "Outliers dans la colonne note :\n",
      "note\n",
      "0    19851\n",
      "1      149\n",
      "Name: count, dtype: int64\n",
      "\n",
      "\n"
     ]
    }
   ],
   "source": [
    "# EXERCICE : Appliquer votre fonction aux variables numeriques\n",
    "for col in col_numericals:\n",
    "    print(f\"Outliers dans la colonne {col} :\")\n",
    "    print(is_outlier(df1, col).value_counts())\n",
    "    print(\"\\n\")\n"
   ]
  },
  {
   "cell_type": "markdown",
   "id": "8f85f054",
   "metadata": {},
   "source": [
    "#### Que pouvez-vous conclure ?\n",
    "- On remarque qu'il y a principalement des outliers dans la colonne age, salaire et note. On peut expliquer cela par le fait que certaines personnes ont des âges très élevés (plus de 60 ans), des salaires très élevés (plus de 100k) et des notes qui dépassent 100.  \n",
    "- Pour l'experience il n'y a pas beaucoup d'outliers car la majorité des personnes ont entre 0 et 20 ans d'expérience et c'est un travail dans lequel on ne trouve pas de personnes avec des expériences très élevées (chercheur d'or)  "
   ]
  },
  {
   "cell_type": "code",
   "execution_count": 114,
   "id": "5ef30400",
   "metadata": {},
   "outputs": [
    {
     "name": "stdout",
     "output_type": "stream",
     "text": [
      "Taux de valeurs manquantes par variable :\n",
      "note          0.570\n",
      "diplome       0.545\n",
      "exp           0.530\n",
      "dispo         0.530\n",
      "salaire       0.525\n",
      "cheveux       0.525\n",
      "age           0.505\n",
      "sexe          0.500\n",
      "specialite    0.465\n",
      "date          0.455\n",
      "dtype: float64 \n",
      "\n",
      "Nombre de valeurs manquantes par variable :\n",
      "note          114\n",
      "diplome       109\n",
      "exp           106\n",
      "dispo         106\n",
      "salaire       105\n",
      "cheveux       105\n",
      "age           101\n",
      "sexe          100\n",
      "specialite     93\n",
      "date           91\n",
      "dtype: int64\n"
     ]
    }
   ],
   "source": [
    "# EXERCICE : Laissez libre court à votre créativité et créez une fonction qui affiche le taux et nombre\n",
    "#            de valeurs manquantes de chaque variable\n",
    "#            par ordre décroissant\n",
    "\n",
    "taux_missing_values_nb(df1)"
   ]
  },
  {
   "cell_type": "markdown",
   "id": "1f2d43d7",
   "metadata": {},
   "source": [
    "### <span style=\"color:#EEE8AA\">7. Encodage des variables categorielles </span>"
   ]
  },
  {
   "cell_type": "code",
   "execution_count": 115,
   "id": "5b4eac79",
   "metadata": {},
   "outputs": [],
   "source": [
    "# EXERCICE : Utiliser une methode adequate pour encoder les variables categorielles\n",
    "label_encoders = {}\n",
    "for col in col_categoricals:\n",
    "    le = LabelEncoder()\n",
    "    df1[f'{col}_encoded'] = le.fit_transform(df1[col].astype(str))\n",
    "    label_encoders[col] = le  # On stocke l'encodeur pour plus tard\n"
   ]
  },
  {
   "cell_type": "code",
   "execution_count": 116,
   "id": "f2a39be2",
   "metadata": {},
   "outputs": [
    {
     "data": {
      "text/html": [
       "<div>\n",
       "<style scoped>\n",
       "    .dataframe tbody tr th:only-of-type {\n",
       "        vertical-align: middle;\n",
       "    }\n",
       "\n",
       "    .dataframe tbody tr th {\n",
       "        vertical-align: top;\n",
       "    }\n",
       "\n",
       "    .dataframe thead th {\n",
       "        text-align: right;\n",
       "    }\n",
       "</style>\n",
       "<table border=\"1\" class=\"dataframe\">\n",
       "  <thead>\n",
       "    <tr style=\"text-align: right;\">\n",
       "      <th></th>\n",
       "      <th>id</th>\n",
       "      <th>date</th>\n",
       "      <th>cheveux</th>\n",
       "      <th>age</th>\n",
       "      <th>exp</th>\n",
       "      <th>salaire</th>\n",
       "      <th>sexe</th>\n",
       "      <th>diplome</th>\n",
       "      <th>specialite</th>\n",
       "      <th>note</th>\n",
       "      <th>...</th>\n",
       "      <th>diplome_imputed_mode</th>\n",
       "      <th>specialite_imputed_mode</th>\n",
       "      <th>dispo_imputed_mode</th>\n",
       "      <th>embauche_imputed_mode</th>\n",
       "      <th>cheveux_encoded</th>\n",
       "      <th>sexe_encoded</th>\n",
       "      <th>diplome_encoded</th>\n",
       "      <th>specialite_encoded</th>\n",
       "      <th>dispo_encoded</th>\n",
       "      <th>embauche_encoded</th>\n",
       "    </tr>\n",
       "  </thead>\n",
       "  <tbody>\n",
       "    <tr>\n",
       "      <th>0</th>\n",
       "      <td>0</td>\n",
       "      <td>2012-06-02</td>\n",
       "      <td>roux</td>\n",
       "      <td>25.0</td>\n",
       "      <td>9.0</td>\n",
       "      <td>26803.0</td>\n",
       "      <td>F</td>\n",
       "      <td>licence</td>\n",
       "      <td>geologie</td>\n",
       "      <td>97.08</td>\n",
       "      <td>...</td>\n",
       "      <td>licence</td>\n",
       "      <td>geologie</td>\n",
       "      <td>non</td>\n",
       "      <td>0</td>\n",
       "      <td>5</td>\n",
       "      <td>1</td>\n",
       "      <td>3</td>\n",
       "      <td>4</td>\n",
       "      <td>1</td>\n",
       "      <td>0</td>\n",
       "    </tr>\n",
       "    <tr>\n",
       "      <th>1</th>\n",
       "      <td>1</td>\n",
       "      <td>2011-04-21</td>\n",
       "      <td>blond</td>\n",
       "      <td>35.0</td>\n",
       "      <td>13.0</td>\n",
       "      <td>38166.0</td>\n",
       "      <td>M</td>\n",
       "      <td>licence</td>\n",
       "      <td>forage</td>\n",
       "      <td>63.86</td>\n",
       "      <td>...</td>\n",
       "      <td>licence</td>\n",
       "      <td>forage</td>\n",
       "      <td>non</td>\n",
       "      <td>0</td>\n",
       "      <td>1</td>\n",
       "      <td>2</td>\n",
       "      <td>3</td>\n",
       "      <td>3</td>\n",
       "      <td>1</td>\n",
       "      <td>0</td>\n",
       "    </tr>\n",
       "    <tr>\n",
       "      <th>2</th>\n",
       "      <td>2</td>\n",
       "      <td>2012-09-07</td>\n",
       "      <td>blond</td>\n",
       "      <td>29.0</td>\n",
       "      <td>13.0</td>\n",
       "      <td>35207.0</td>\n",
       "      <td>M</td>\n",
       "      <td>licence</td>\n",
       "      <td>geologie</td>\n",
       "      <td>78.50</td>\n",
       "      <td>...</td>\n",
       "      <td>licence</td>\n",
       "      <td>geologie</td>\n",
       "      <td>non</td>\n",
       "      <td>0</td>\n",
       "      <td>1</td>\n",
       "      <td>2</td>\n",
       "      <td>3</td>\n",
       "      <td>4</td>\n",
       "      <td>1</td>\n",
       "      <td>0</td>\n",
       "    </tr>\n",
       "    <tr>\n",
       "      <th>3</th>\n",
       "      <td>3</td>\n",
       "      <td>2011-07-01</td>\n",
       "      <td>brun</td>\n",
       "      <td>NaN</td>\n",
       "      <td>12.0</td>\n",
       "      <td>32442.0</td>\n",
       "      <td>M</td>\n",
       "      <td>licence</td>\n",
       "      <td>geologie</td>\n",
       "      <td>45.09</td>\n",
       "      <td>...</td>\n",
       "      <td>licence</td>\n",
       "      <td>geologie</td>\n",
       "      <td>non</td>\n",
       "      <td>0</td>\n",
       "      <td>2</td>\n",
       "      <td>2</td>\n",
       "      <td>3</td>\n",
       "      <td>4</td>\n",
       "      <td>1</td>\n",
       "      <td>0</td>\n",
       "    </tr>\n",
       "    <tr>\n",
       "      <th>4</th>\n",
       "      <td>4</td>\n",
       "      <td>2012-08-07</td>\n",
       "      <td>roux</td>\n",
       "      <td>35.0</td>\n",
       "      <td>6.0</td>\n",
       "      <td>28533.0</td>\n",
       "      <td>F</td>\n",
       "      <td>licence</td>\n",
       "      <td>detective</td>\n",
       "      <td>81.91</td>\n",
       "      <td>...</td>\n",
       "      <td>licence</td>\n",
       "      <td>detective</td>\n",
       "      <td>non</td>\n",
       "      <td>0</td>\n",
       "      <td>5</td>\n",
       "      <td>1</td>\n",
       "      <td>3</td>\n",
       "      <td>2</td>\n",
       "      <td>1</td>\n",
       "      <td>0</td>\n",
       "    </tr>\n",
       "  </tbody>\n",
       "</table>\n",
       "<p>5 rows × 32 columns</p>\n",
       "</div>"
      ],
      "text/plain": [
       "   id       date cheveux   age   exp  salaire sexe  diplome specialite   note  \\\n",
       "0   0 2012-06-02    roux  25.0   9.0  26803.0    F  licence   geologie  97.08   \n",
       "1   1 2011-04-21   blond  35.0  13.0  38166.0    M  licence     forage  63.86   \n",
       "2   2 2012-09-07   blond  29.0  13.0  35207.0    M  licence   geologie  78.50   \n",
       "3   3 2011-07-01    brun   NaN  12.0  32442.0    M  licence   geologie  45.09   \n",
       "4   4 2012-08-07    roux  35.0   6.0  28533.0    F  licence  detective  81.91   \n",
       "\n",
       "   ... diplome_imputed_mode  specialite_imputed_mode  dispo_imputed_mode  \\\n",
       "0  ...              licence                 geologie                 non   \n",
       "1  ...              licence                   forage                 non   \n",
       "2  ...              licence                 geologie                 non   \n",
       "3  ...              licence                 geologie                 non   \n",
       "4  ...              licence                detective                 non   \n",
       "\n",
       "   embauche_imputed_mode  cheveux_encoded  sexe_encoded  diplome_encoded  \\\n",
       "0                      0                5             1                3   \n",
       "1                      0                1             2                3   \n",
       "2                      0                1             2                3   \n",
       "3                      0                2             2                3   \n",
       "4                      0                5             1                3   \n",
       "\n",
       "   specialite_encoded  dispo_encoded  embauche_encoded  \n",
       "0                   4              1                 0  \n",
       "1                   3              1                 0  \n",
       "2                   4              1                 0  \n",
       "3                   4              1                 0  \n",
       "4                   2              1                 0  \n",
       "\n",
       "[5 rows x 32 columns]"
      ]
     },
     "execution_count": 116,
     "metadata": {},
     "output_type": "execute_result"
    }
   ],
   "source": [
    "df1.head()"
   ]
  },
  {
   "cell_type": "markdown",
   "id": "f6337342",
   "metadata": {},
   "source": [
    "### <span style=\"color:#011C5D\">8. Encodage des variables categorielles Embedding </span>"
   ]
  },
  {
   "cell_type": "code",
   "execution_count": 117,
   "id": "a4a356d1",
   "metadata": {},
   "outputs": [
    {
     "data": {
      "text/plain": [
       "(6, array(['roux', 'blond', 'brun', 'chatain', 'Missing', ' '], dtype=object))"
      ]
     },
     "execution_count": 117,
     "metadata": {},
     "output_type": "execute_result"
    }
   ],
   "source": [
    "# Exemple variable\n",
    "VARIABLE = \"cheveux\"\n",
    "df1[VARIABLE] = df1[VARIABLE].fillna(\"Missing\")\n",
    "MODALITE = df1[VARIABLE].unique()\n",
    "NB_MODALITE = len(MODALITE)\n",
    "NB_MODALITE,MODALITE"
   ]
  },
  {
   "cell_type": "code",
   "execution_count": 118,
   "id": "055bc9f4",
   "metadata": {},
   "outputs": [],
   "source": [
    "DIM_EMBEDDING = 10"
   ]
  },
  {
   "cell_type": "code",
   "execution_count": 119,
   "id": "02a751b1",
   "metadata": {},
   "outputs": [],
   "source": [
    "# Exemple d'embedding avec des weights aleatoire non entraine sur une dataset\n",
    "embedding = nn.Embedding(NB_MODALITE, DIM_EMBEDDING)"
   ]
  },
  {
   "cell_type": "code",
   "execution_count": 120,
   "id": "75504752",
   "metadata": {},
   "outputs": [],
   "source": [
    "# On encode la variable\n",
    "df1[VARIABLE+\"_label_encoded\"] = LabelEncoder().fit_transform(df[VARIABLE])\n"
   ]
  },
  {
   "cell_type": "code",
   "execution_count": 121,
   "id": "5291a275",
   "metadata": {},
   "outputs": [
    {
     "data": {
      "text/html": [
       "<div>\n",
       "<style scoped>\n",
       "    .dataframe tbody tr th:only-of-type {\n",
       "        vertical-align: middle;\n",
       "    }\n",
       "\n",
       "    .dataframe tbody tr th {\n",
       "        vertical-align: top;\n",
       "    }\n",
       "\n",
       "    .dataframe thead th {\n",
       "        text-align: right;\n",
       "    }\n",
       "</style>\n",
       "<table border=\"1\" class=\"dataframe\">\n",
       "  <thead>\n",
       "    <tr style=\"text-align: right;\">\n",
       "      <th></th>\n",
       "      <th>cheveux</th>\n",
       "      <th>cheveux_label_encoded</th>\n",
       "    </tr>\n",
       "  </thead>\n",
       "  <tbody>\n",
       "    <tr>\n",
       "      <th>0</th>\n",
       "      <td>roux</td>\n",
       "      <td>4</td>\n",
       "    </tr>\n",
       "    <tr>\n",
       "      <th>1</th>\n",
       "      <td>blond</td>\n",
       "      <td>1</td>\n",
       "    </tr>\n",
       "    <tr>\n",
       "      <th>2</th>\n",
       "      <td>blond</td>\n",
       "      <td>1</td>\n",
       "    </tr>\n",
       "    <tr>\n",
       "      <th>3</th>\n",
       "      <td>brun</td>\n",
       "      <td>2</td>\n",
       "    </tr>\n",
       "    <tr>\n",
       "      <th>4</th>\n",
       "      <td>roux</td>\n",
       "      <td>4</td>\n",
       "    </tr>\n",
       "  </tbody>\n",
       "</table>\n",
       "</div>"
      ],
      "text/plain": [
       "  cheveux  cheveux_label_encoded\n",
       "0    roux                      4\n",
       "1   blond                      1\n",
       "2   blond                      1\n",
       "3    brun                      2\n",
       "4    roux                      4"
      ]
     },
     "execution_count": 121,
     "metadata": {},
     "output_type": "execute_result"
    }
   ],
   "source": [
    "# On affiche le resultat\n",
    "df1[[VARIABLE,VARIABLE+\"_label_encoded\"]].head()"
   ]
  },
  {
   "cell_type": "code",
   "execution_count": 122,
   "id": "aca303fb",
   "metadata": {},
   "outputs": [],
   "source": [
    "# On convertit la variable encodée en tenseur torch\n",
    "variable_to_torch = torch.tensor(df1[VARIABLE+\"_label_encoded\"].values.tolist())  "
   ]
  },
  {
   "cell_type": "code",
   "execution_count": 123,
   "id": "b7667891",
   "metadata": {},
   "outputs": [],
   "source": [
    "# On applique l'embedding\n",
    "embeddings = embedding(variable_to_torch)"
   ]
  },
  {
   "cell_type": "code",
   "execution_count": 124,
   "id": "27a6d7c6",
   "metadata": {},
   "outputs": [
    {
     "data": {
      "text/plain": [
       "tensor([[-0.1278, -0.0732,  0.1955,  ...,  0.4782,  0.1194,  1.0122],\n",
       "        [-1.6936, -0.2047, -1.6915,  ..., -0.0816, -0.2267, -1.9770],\n",
       "        [-1.6936, -0.2047, -1.6915,  ..., -0.0816, -0.2267, -1.9770],\n",
       "        ...,\n",
       "        [-0.2384, -1.1399, -0.8789,  ..., -0.2867, -2.1934,  1.7054],\n",
       "        [-0.2384, -1.1399, -0.8789,  ..., -0.2867, -2.1934,  1.7054],\n",
       "        [-0.6321,  0.9438, -0.0339,  ..., -1.2406,  0.6099, -0.2958]],\n",
       "       grad_fn=<EmbeddingBackward0>)"
      ]
     },
     "execution_count": 124,
     "metadata": {},
     "output_type": "execute_result"
    }
   ],
   "source": [
    "embeddings"
   ]
  },
  {
   "cell_type": "code",
   "execution_count": 125,
   "id": "ec549034",
   "metadata": {},
   "outputs": [
    {
     "data": {
      "text/plain": [
       "torch.Size([20000, 10])"
      ]
     },
     "execution_count": 125,
     "metadata": {},
     "output_type": "execute_result"
    }
   ],
   "source": [
    "# On affiche la shape des embeddings\n",
    "embeddings.shape"
   ]
  },
  {
   "cell_type": "code",
   "execution_count": 126,
   "id": "f3385d55",
   "metadata": {},
   "outputs": [
    {
     "data": {
      "image/png": "[encoded data removed]",
      "text/plain": [
       "<Figure size 640x480 with 1 Axes>"
      ]
     },
     "metadata": {},
     "output_type": "display_data"
    }
   ],
   "source": [
    "### Visualisation des embeddings\n",
    "embeddings_weight = embedding.weight.data.numpy()\n",
    "pca = PCA(n_components=2)\n",
    "embeddings_pca = pca.fit_transform(embeddings_weight)\n",
    "\n",
    "\n",
    "plt.scatter(embeddings_pca[:, 0], embeddings_pca[:, 1])\n",
    "plt.show()\n"
   ]
  },
  {
   "cell_type": "markdown",
   "id": "5b0c131d",
   "metadata": {},
   "source": [
    "- On remarque que les modalités sont assez bien séparées dans l'espace 2D.\n",
    "- On remarque que les points sont assez éloignés les uns des autres, ce qui indique que les embeddings ont réussi à capturer des différences significatives entre les modalités de la variable catégorielle."
   ]
  },
  {
   "cell_type": "markdown",
   "id": "aa421d6c",
   "metadata": {},
   "source": [
    "### <span style=\"color:#011C5D\">9. Créer votre package python </span>"
   ]
  },
  {
   "cell_type": "markdown",
   "id": "80f850cd",
   "metadata": {},
   "source": [
    "    - Step 1 : Créer un fichier analyse_exploratoire.py\n",
    "    - Step 2 : Copier toutes les fonctions de ce notebook dans votre fichier fichier analyse_exploratoire.py\n",
    "    - Step 3 : Créer un dossier src\n",
    "    - Step 4 : Deplacer votre fichier analyse_exploratoire.py dans le dossier src\n",
    "    - Step 5 : Créer un nouveau notebook\n",
    "    - Step 6 : Dans ce notebook, specifier le chemin vers votre dossier src\n",
    "    - Step 7 : Executer 'from  analyse_exploratoire import is_outlier, display_missing_values etc...\n",
    "    - Step 8 : Analyser vos données avec ces nouvelles fonction"
   ]
  },
  {
   "cell_type": "markdown",
   "id": "ed1d9f8e",
   "metadata": {},
   "source": [
    "## Ressources\n",
    "\n",
    "Imputation:\n",
    "\n",
    "- [Imputation Iterrative](https://scikit-learn.org/stable/auto_examples/impute/plot_iterative_imputer_variants_comparison.html) \n",
    "- [Imputation](https://scikit-learn.org/stable/modules/impute.html) \n",
    "\n",
    "Outliers:\n",
    "\n",
    "- [Doc sklearn](https://scikit-learn.org/stable/modules/outlier_detection.html)\n",
    "- [Doc Medium](https://towardsdatascience.com/5-outlier-detection-methods-that-every-data-enthusiast-must-know-f917bf439210)"
   ]
  }
 ],
 "metadata": {
  "kernelspec": {
   "display_name": ".venv",
   "language": "python",
   "name": "python3"
  },
  "language_info": {
   "codemirror_mode": {
    "name": "ipython",
    "version": 3
   },
   "file_extension": ".py",
   "mimetype": "text/x-python",
   "name": "python",
   "nbconvert_exporter": "python",
   "pygments_lexer": "ipython3",
   "version": "3.12.0"
  }
 },
 "nbformat": 4,
 "nbformat_minor": 5
}
